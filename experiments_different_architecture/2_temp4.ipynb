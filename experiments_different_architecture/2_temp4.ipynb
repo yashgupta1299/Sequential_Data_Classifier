{
 "cells": [
  {
   "cell_type": "code",
   "execution_count": 1,
   "metadata": {},
   "outputs": [
    {
     "name": "stdout",
     "output_type": "stream",
     "text": [
      "2.10.0\n"
     ]
    }
   ],
   "source": [
    "import tensorflow as tf\n",
    "# current processing\n",
    "tf.config.set_visible_devices(tf.config.list_physical_devices('CPU'))\n",
    "\n",
    "from importlib import import_module\n",
    "import keras\n",
    "from keras.api._v2 import keras as KerasAPI\n",
    "keras: KerasAPI = import_module(\"tensorflow.keras\")\n",
    "print(tf.__version__)\n",
    "\n",
    "from keras import Model, layers\n",
    "from keras.models import Sequential\n",
    "from keras.layers import preprocessing\n",
    "from keras.utils import plot_model\n",
    "\n",
    "\n",
    "import numpy as np\n",
    "import pandas as pd\n",
    "import matplotlib.pyplot as plt\n",
    "import matplotlib.image as mpimg\n",
    "import matplotlib\n",
    "import librosa\n",
    "import librosa.display\n",
    "\n",
    "import os\n",
    "import time\n",
    "import itertools\n",
    "import shutil\n",
    "import cv2\n",
    "import zipfile\n",
    "\n",
    "from sklearn.preprocessing import LabelEncoder\n",
    "from IPython import get_ipython\n",
    "from sklearn.preprocessing import MinMaxScaler\n",
    "from sklearn.metrics import confusion_matrix"
   ]
  },
  {
   "cell_type": "code",
   "execution_count": 2,
   "metadata": {},
   "outputs": [],
   "source": [
    "name = 'task_2.ipynb'\n",
    "\n",
    "path = ''\n",
    "# from google.colab import drive\n",
    "# drive.mount('/content/drive')\n",
    "# path = '/content/drive/MyDrive/deepLearningAs3/'\n",
    "\n",
    "random_state_global = 42\n",
    "\n",
    "pathfinal = path + 'model_history/part_b/'\n",
    "pathfinal2 = path + 'model_images/'\n",
    "weightPath = path + 'model_history/part_b/weights/'\n",
    "\n",
    "epoch_val = 3000\n",
    "batch_size_val = 32\n",
    "threshold_val = 1e-4\n",
    "\n",
    "checkpoint_path = pathfinal+'weights/checkpoint'"
   ]
  },
  {
   "cell_type": "code",
   "execution_count": 3,
   "metadata": {},
   "outputs": [],
   "source": [
    "def unzip_data(filename):\n",
    "  \"\"\"\n",
    "  Unzips filename into the current working directory.\n",
    "\n",
    "  Args:\n",
    "    filename (str): a filepath to a target zip folder to be unzipped.\n",
    "  \"\"\"\n",
    "  zip_ref = zipfile.ZipFile(filename, \"r\")\n",
    "  zip_ref.extractall()\n",
    "  zip_ref.close()\n",
    "  \n",
    "unzip_data(f\"{path}CV_Data.zip\")"
   ]
  },
  {
   "cell_type": "code",
   "execution_count": 4,
   "metadata": {},
   "outputs": [],
   "source": [
    "def delete_folder_contents(path_erase):\n",
    "    '''\n",
    "    take path to erase all data present on it\n",
    "    '''\n",
    "    folder_name = path_erase\n",
    "    # Get all files in the folder\n",
    "    files = os.listdir(folder_name)\n",
    "\n",
    "    # Loop through the files and delete them\n",
    "    for file in files:\n",
    "        if(file == 'weights'):\n",
    "            continue\n",
    "        file_path = os.path.join(folder_name, file)\n",
    "        try:\n",
    "            if os.path.isfile(file_path):\n",
    "                os.unlink(file_path)\n",
    "            if os.path.isdir(file_path):\n",
    "                shutil.rmtree(file_path)\n",
    "        except Exception as e:\n",
    "            print(f\"Error deleting {file_path}: {e}\")\n",
    "            \n",
    "# delete_folder_contents(pathfinal)\n",
    "delete_folder_contents(pathfinal2)"
   ]
  },
  {
   "attachments": {},
   "cell_type": "markdown",
   "metadata": {},
   "source": [
    "### Data Loading"
   ]
  },
  {
   "cell_type": "code",
   "execution_count": 5,
   "metadata": {},
   "outputs": [
    {
     "name": "stdout",
     "output_type": "stream",
     "text": [
      "ni length: 47, Test\n",
      "ni length: 186, Train\n",
      "ba length: 72, Test\n",
      "ba length: 290, Train\n",
      "ne length: 243, Test\n",
      "ne length: 970, Train\n",
      "paa length: 77, Test\n",
      "paa length: 307, Train\n",
      "re length: 52, Test\n",
      "re length: 208, Train\n",
      "Total files: 2452, Training Files 1961, Testing Files 491\n",
      "['ba', 'ne', 'ni', 'paa', 're']\n",
      "[0 1 2 3 4]\n",
      "Sequence length range 7 to 78\n"
     ]
    }
   ],
   "source": [
    "class_names = ['ba', 'ne', 'ni','paa', 're']\n",
    "train_X = []\n",
    "len_X = [] # later sequence changed\n",
    "train_Y = []\n",
    "\n",
    "test_X = []\n",
    "test_Y = []\n",
    "len_Y = [] # later sequence changed\n",
    "\n",
    "l0 = path+'CV_Data'\n",
    "totalFiles=0\n",
    "train_files = 0\n",
    "test_files = 0\n",
    "for l1 in os.listdir(l0):\n",
    "    if(l1 in class_names):\n",
    "        ctrain=0\n",
    "        ctest=0\n",
    "        f1 = os.path.join(l0, l1)\n",
    "        for l2 in os.listdir(f1):\n",
    "            if(l2=='.DS_Store'):\n",
    "                continue\n",
    "            f2 = os.path.join(f1, l2)\n",
    "            flag = False\n",
    "            for l3 in os.listdir(f2):\n",
    "                if(l3=='.DS_Store'):\n",
    "                    continue\n",
    "                if(flag==False):\n",
    "                    if(l2 == 'Train'):\n",
    "                        train_files+=len(os.listdir(f2))\n",
    "                    else:\n",
    "                        test_files+=len(os.listdir(f2))\n",
    "                    totalFiles+=len(os.listdir(f2))\n",
    "                    print(f'{l1} length: {len(os.listdir(f2))}, {l2}')\n",
    "                flag=True\n",
    "                f3 = os.path.join(f2, l3)\n",
    "                with open(f3, 'r') as f:\n",
    "                    lines = f.readlines()\n",
    "                    mfcc_data = [list(map(float, line.strip().split(' '))) for line in lines]\n",
    "                    length = len(mfcc_data)\n",
    "                    if(l2 == 'Train' and ctrain<300):\n",
    "                        ctrain+=1\n",
    "                        train_X.append(mfcc_data)\n",
    "                        train_Y.append(l1)\n",
    "                        len_X.append(length)\n",
    "                    elif(ctest<50):\n",
    "                        ctest+=1\n",
    "                        test_X.append(mfcc_data)\n",
    "                        test_Y.append(l1)\n",
    "                        len_Y.append(length)\n",
    "\n",
    "print(f'Total files: {totalFiles}, Training Files {train_files}, Testing Files {test_files}')\n",
    "\n",
    "def suffleData(list1, list2, random_state_global):\n",
    "    np.random.seed(random_state_global)\n",
    "    # Combine the lists using zip()\n",
    "    combined = list(zip(list1, list2))\n",
    "    # Shuffle the combined list\n",
    "    np.random.shuffle(combined)\n",
    "\n",
    "    # Unzip the shuffled list\n",
    "    shuffled_list1, shuffled_list2 = zip(*combined)\n",
    "    return shuffled_list1, shuffled_list2\n",
    "\n",
    "train_X, train_Y = suffleData(train_X, train_Y, random_state_global)\n",
    "test_X, test_Y = suffleData(test_X, test_Y, random_state_global)\n",
    "\n",
    "train_M_Y = LabelEncoder().fit_transform(train_Y)\n",
    "test_M_Y = LabelEncoder().fit_transform(test_Y)\n",
    "# maximum_sequence_length = max(np.max(len_X), np.max(len_Y))\n",
    "print(class_names)\n",
    "class_ind = LabelEncoder().fit_transform(class_names)\n",
    "print(class_ind)\n",
    "print(f'Sequence length range {min(np.min(len_X), np.min(len_Y))} to {max(np.max(len_X), np.max(len_Y))}')"
   ]
  },
  {
   "cell_type": "code",
   "execution_count": 6,
   "metadata": {},
   "outputs": [
    {
     "data": {
      "text/plain": [
       "(1284, 247)"
      ]
     },
     "execution_count": 6,
     "metadata": {},
     "output_type": "execute_result"
    }
   ],
   "source": [
    "len(train_X), len(test_X)"
   ]
  },
  {
   "attachments": {},
   "cell_type": "markdown",
   "metadata": {},
   "source": [
    "### Frequency of seq length"
   ]
  },
  {
   "cell_type": "code",
   "execution_count": 7,
   "metadata": {},
   "outputs": [
    {
     "data": {
      "image/png": "[encoded data removed]",
      "text/plain": [
       "<Figure size 1000x500 with 2 Axes>"
      ]
     },
     "metadata": {},
     "output_type": "display_data"
    }
   ],
   "source": [
    "maximum_sequence_length = 50\n",
    "mask_value = -2.0 ## because dataset do not have -2 value\n",
    "fig,ax = plt.subplots(1,2, figsize=(10, 5))\n",
    "ax = ax.reshape(-1)\n",
    "for i in range(2):\n",
    "    ax[i].hist(len_X if i==0 else len_Y)\n",
    "    ax[i].set_title('Train' if i==0 else 'Test')\n",
    "    ax[i].set_xlabel('Length of (2d) Points')\n",
    "    ax[i].set_ylabel('Frequency')"
   ]
  },
  {
   "attachments": {},
   "cell_type": "markdown",
   "metadata": {},
   "source": [
    "### Visualizing Data"
   ]
  },
  {
   "cell_type": "code",
   "execution_count": 8,
   "metadata": {},
   "outputs": [
    {
     "data": {
      "image/png": "[encoded data removed]",
      "text/plain": [
       "<Figure size 700x1200 with 10 Axes>"
      ]
     },
     "metadata": {},
     "output_type": "display_data"
    }
   ],
   "source": [
    "def plot_data(data_X, data_Y):\n",
    "    sorted_lists = sorted(zip(data_Y, data_X))\n",
    "    data_Y, data_X = zip(*sorted_lists)\n",
    "    fig, ax = plt.subplots(5,1, figsize=(7, 12))\n",
    "    ax = ax.reshape(-1)\n",
    "    c=0\n",
    "    cl=0\n",
    "    mid=2\n",
    "    colors = ['r', 'g', 'b', 'y', 'm']\n",
    "    for i, ele in enumerate(data_Y):\n",
    "        if(ele==cl):\n",
    "            im = librosa.display.specshow(np.array(data_X[i]).T, x_axis='time',ax=ax[c])\n",
    "            fig.colorbar(im, ax=ax[c])\n",
    "            ax[c].set_title(f'{class_names[cl]}')\n",
    "            ax[c].set_ylabel('MFCC Coefficients')\n",
    "            ax[c].set_xlabel('Time')\n",
    "            c+=1\n",
    "            cl+=1\n",
    "            if(c==5):\n",
    "                break\n",
    "    plt.tight_layout()\n",
    "    plt.show()         \n",
    "\n",
    "plot_data(train_X, train_M_Y)"
   ]
  },
  {
   "attachments": {},
   "cell_type": "markdown",
   "metadata": {},
   "source": [
    "### Functions"
   ]
  },
  {
   "cell_type": "code",
   "execution_count": 9,
   "metadata": {},
   "outputs": [],
   "source": [
    "# Note: The following confusion matrix code is a remix of Scikit-Learn's \n",
    "# plot_confusion_matrix function - https://scikit-learn.org/stable/modules/generated/sklearn.metrics.plot_confusion_matrix.html\n",
    "# and Made with ML's introductory notebook - https://github.com/GokuMohandas/MadeWithML/blob/main/notebooks/08_Neural_Networks.ipynb\n",
    "def make_confusion_matrix(y_true, y_pred, classes=None, figsize=(10, 10), text_size=10): \n",
    "  \"\"\"Makes a labelled confusion matrix comparing predictions and ground truth labels.\n",
    "\n",
    "  If classes is passed, confusion matrix will be labelled, if not, integer class values\n",
    "  will be used.\n",
    "\n",
    "  Args:\n",
    "    y_true: Array of truth labels (must be same shape as y_pred).\n",
    "    y_pred: Array of predicted labels (must be same shape as y_true).\n",
    "    classes: Array of class labels (e.g. string form). If `None`, integer labels are used.\n",
    "    figsize: Size of output figure (default=(10, 10)).\n",
    "    text_size: Size of output figure text (default=15).\n",
    "  \n",
    "  Returns:\n",
    "    A labelled confusion matrix plot comparing y_true and y_pred.\n",
    "\n",
    "  Example usage:\n",
    "    make_confusion_matrix(y_true=test_Y, # ground truth test labels\n",
    "                          y_pred=y_preds, # predicted labels\n",
    "                          classes=class_names, # array of class label names\n",
    "                          figsize=(15, 15),\n",
    "                          text_size=10)\n",
    "  \"\"\"  \n",
    "  # Create the confustion matrix\n",
    "  cm = confusion_matrix(y_true, y_pred)\n",
    "  cm_norm = cm.astype(\"float\") / cm.sum(axis=1)[:, np.newaxis] # normalize it\n",
    "  n_classes = cm.shape[0] # find the number of classes we're dealing with\n",
    "\n",
    "  # Plot the figure and make it pretty\n",
    "  fig, ax = plt.subplots(figsize=figsize)\n",
    "  cax = ax.matshow(cm, cmap=plt.cm.Blues) # colors will represent how 'correct' a class is, darker == better\n",
    "  fig.colorbar(cax)\n",
    "\n",
    "  # Are there a list of classes?\n",
    "  if classes:\n",
    "    labels = classes\n",
    "  else:\n",
    "    labels = np.arange(cm.shape[0])\n",
    "  # Label the axes\n",
    "  ax.set(title=\"Confusion Matrix\",\n",
    "         xlabel=\"Predicted label\",\n",
    "         ylabel=\"True label\",\n",
    "         xticks=np.arange(n_classes), # create enough axis slots for each class\n",
    "         yticks=np.arange(n_classes), \n",
    "         xticklabels=labels, # axes will labeled with class names (if they exist) or ints\n",
    "         yticklabels=labels)\n",
    "  \n",
    "  # Make x-axis labels appear on bottom\n",
    "  ax.xaxis.set_label_position(\"bottom\")\n",
    "  ax.xaxis.tick_bottom()\n",
    "\n",
    "  # Set the threshold for different colors\n",
    "  threshold = (cm.max() + cm.min()) / 2.\n",
    "\n",
    "  # Plot the text on each cell\n",
    "  for i, j in itertools.product(range(cm.shape[0]), range(cm.shape[1])):\n",
    "    plt.text(j, i, f\"{cm[i, j]} ({cm_norm[i, j]*100:.1f}%)\",\n",
    "             horizontalalignment=\"center\",\n",
    "             color=\"white\" if cm[i, j] > threshold else \"black\",\n",
    "             size=text_size)\n",
    "    \n",
    "\n",
    "def inferences(df_model_history, model, data_X, data_Y):\n",
    "    print(f'Training Accuracy for model: {df_model_history[\"accuracy\"].to_list()[-1]*100:.2f}%')\n",
    "    print(f'Validation Accuracy for model: {df_model_history[\"val_accuracy\"].to_list()[-1]*100:.2f}%')\n",
    "    print(f'Test Accuracy for model: {model.evaluate(data_X, data_Y, verbose=0)[1]*100:.2f}%')\n",
    "\n",
    "    df_model_history.plot(title=\"Accuracy / Loss vs Epoch\", xlabel='Epoch', ylabel='Accuracy / Loss')\n",
    "    plt.show()\n",
    "    \n",
    "    df_model_history['loss'].plot(title=\"Average training error vs epochs\", xlabel='Epoch', ylabel='Loss')\n",
    "    plt.show()\n",
    "\n",
    "def makingPredictionWithCM(model, data_X, data_Y, class_names):\n",
    "    y_prob_a = model.predict(data_X, verbose=0)\n",
    "    y_pred_a = y_prob_a.argmax(axis=1)\n",
    "    make_confusion_matrix(data_Y, y_pred_a, class_names)\n",
    "\n",
    "model_arch_list = []\n",
    "def plottingModel(model):\n",
    "    plot_model(model,to_file=f'model_images/model.png', show_shapes=True, show_layer_activations=True, expand_nested=True)\n",
    "    img = plt.imread(f'model_images/model.png')\n",
    "    model_arch_list.append(img)\n",
    "    plt.figure(figsize=(5, 10))\n",
    "    plt.imshow(img)\n",
    "    plt.axis(False)\n",
    "    plt.show()\n",
    "\n",
    "def showResults(model, history, data_X, data_Y, class_names):\n",
    "    inferences(history, model, data_X, data_Y)\n",
    "    makingPredictionWithCM(model, data_X, data_Y, class_names)\n",
    "    # plottingModel(model)"
   ]
  },
  {
   "cell_type": "code",
   "execution_count": 10,
   "metadata": {},
   "outputs": [
    {
     "name": "stdout",
     "output_type": "stream",
     "text": [
      "[1, 4, 7]\n"
     ]
    }
   ],
   "source": [
    "def get_data_along_axis_0(data):\n",
    "    return [sublist[0] for sublist in data]\n",
    "\n",
    "# Example usage\n",
    "data = [[1, 2, 3], [4, 5, 6], [7, 8, 9]]\n",
    "result = get_data_along_axis_0(data)\n",
    "print(result)"
   ]
  },
  {
   "cell_type": "code",
   "execution_count": 11,
   "metadata": {},
   "outputs": [],
   "source": [
    "from sklearn.preprocessing import MinMaxScaler\n",
    "\n",
    "def apply_minmax_scaler(data):\n",
    "    scaler = MinMaxScaler()\n",
    "    scaled_data = scaler.fit_transform(data)\n",
    "    return scaled_data\n",
    "\n",
    "# x = apply_minmax_scaler(train_X[0])"
   ]
  },
  {
   "cell_type": "code",
   "execution_count": 12,
   "metadata": {},
   "outputs": [],
   "source": [
    "\n",
    "\n",
    "def minMaxPreprocessing(data):\n",
    "    new_data = []\n",
    "    n = len(data)\n",
    "    for i in range(n):\n",
    "        scaled_data = apply_minmax_scaler(data[i])\n",
    "        new_data.append(scaled_data.tolist())\n",
    "    return new_data\n",
    "\n",
    "train_M_X = minMaxPreprocessing(train_X)\n",
    "test_M_X = minMaxPreprocessing(test_X)\n",
    "# plot_data(train_M_X, train_M_Y)"
   ]
  },
  {
   "attachments": {},
   "cell_type": "markdown",
   "metadata": {},
   "source": [
    "### Padding Sequence"
   ]
  },
  {
   "cell_type": "code",
   "execution_count": 13,
   "metadata": {},
   "outputs": [
    {
     "data": {
      "text/plain": [
       "(-2.0, 1.0, -2.0, 1.0)"
      ]
     },
     "execution_count": 13,
     "metadata": {},
     "output_type": "execute_result"
    }
   ],
   "source": [
    "def paddingSequence(data_X, maxlen=maximum_sequence_length):\n",
    "    data_X = keras.preprocessing.sequence.pad_sequences(data_X, maxlen=maximum_sequence_length, padding='post', value=mask_value, dtype='float32')\n",
    "    return data_X\n",
    "\n",
    "train_M_X = paddingSequence(train_M_X)\n",
    "test_M_X = paddingSequence(test_M_X)\n",
    "np.min(train_M_X), np.max(train_M_X), np.min(test_M_X), np.max(test_M_X)"
   ]
  },
  {
   "attachments": {},
   "cell_type": "markdown",
   "metadata": {},
   "source": [
    "### Callbacks"
   ]
  },
  {
   "cell_type": "code",
   "execution_count": 14,
   "metadata": {},
   "outputs": [],
   "source": [
    "class ModelSaving(keras.callbacks.Callback):\n",
    "    def __init__(self):\n",
    "        self.currentEpoch = 0\n",
    "        \n",
    "    def on_epoch_end(self, epoch, logs=None):\n",
    "        self.currentEpoch = epoch\n",
    "\n",
    "    def on_train_end(self, logs=None):\n",
    "        self.model.save(f'{pathfinal}{self.model.name}_{self.currentEpoch+1}.tf')\n",
    "        # print(\"Training has ended!, model saved\")\n",
    "\n",
    "    \n",
    "class HistorySaver(keras.callbacks.Callback):\n",
    "    def __init__(self, initial_history):\n",
    "        super(HistorySaver, self).__init__()\n",
    "        self.history = {}\n",
    "        self.currentEpoch = 0\n",
    "        \n",
    "        for key, value in [('loss', initial_history[0]), ('accuracy', initial_history[1]), ('val_loss', initial_history[2]), ('val_accuracy', initial_history[3])]:\n",
    "            self.history.setdefault(key, []).append(value)\n",
    "        \n",
    "        # logs.items() = dict_items([('loss', 1.3612865209579468), ('accuracy', 0.46034255623817444), ('val_loss', 1.1157031059265137), ('val_accuracy', 0.6484848856925964)])\n",
    "    def on_epoch_end(self, epoch, logs=None):\n",
    "        for key, value in logs.items():\n",
    "            self.history.setdefault(key, []).append(value)\n",
    "        self.currentEpoch = epoch\n",
    "        \n",
    "    def on_train_end(self, logs=None):\n",
    "        pd.DataFrame(self.history).to_csv(f'{pathfinal}{self.model.name}_{self.currentEpoch+1}.csv', index=False)\n",
    "        # print(\"Training has ended!, model history saved\")\n",
    "\n",
    "\n",
    "\n",
    "# create the callbacks\n",
    "\n",
    "model_saver = ModelSaving()\n",
    "\n",
    "# This means if for 5 epochs the accuracy has no progress on \n",
    "# the validation set then it would stop and store the previous best value.\n",
    "early_stopping_cb = keras.callbacks.EarlyStopping(monitor='loss',\n",
    "                                                  patience= 10,\n",
    "                                                  min_delta=threshold_val,\n",
    "                                                  mode='min',\n",
    "                                                  verbose=1)\n",
    "\n",
    "\n",
    "checkpoint_callback = tf.keras.callbacks.ModelCheckpoint(\n",
    "                                                filepath=checkpoint_path,\n",
    "                                                save_weights_only=True,\n",
    "                                                monitor='val_accuracy',\n",
    "                                                mode='max',\n",
    "                                                save_best_only=True)"
   ]
  },
  {
   "attachments": {},
   "cell_type": "markdown",
   "metadata": {},
   "source": [
    "### Building a RNN,LSTM Model"
   ]
  },
  {
   "cell_type": "code",
   "execution_count": 15,
   "metadata": {},
   "outputs": [
    {
     "data": {
      "text/plain": [
       "((1284, 50, 39), (247, 50, 39))"
      ]
     },
     "execution_count": 15,
     "metadata": {},
     "output_type": "execute_result"
    }
   ],
   "source": [
    "train_M_X.shape, test_M_X.shape"
   ]
  },
  {
   "cell_type": "code",
   "execution_count": 16,
   "metadata": {},
   "outputs": [
    {
     "name": "stdout",
     "output_type": "stream",
     "text": [
      "Model: \"sequential\"\n",
      "_________________________________________________________________\n",
      " Layer (type)                Output Shape              Param #   \n",
      "=================================================================\n",
      " masking (Masking)           (None, 50, 39)            0         \n",
      "                                                                 \n",
      " gru (GRU)                   (None, 50, 64)            20160     \n",
      "                                                                 \n",
      " gru_1 (GRU)                 (None, 50, 32)            9408      \n",
      "                                                                 \n",
      " gru_2 (GRU)                 (None, 16)                2400      \n",
      "                                                                 \n",
      " dense (Dense)               (None, 5)                 85        \n",
      "                                                                 \n",
      "=================================================================\n",
      "Total params: 32,053\n",
      "Trainable params: 32,053\n",
      "Non-trainable params: 0\n",
      "_________________________________________________________________\n"
     ]
    }
   ],
   "source": [
    "tf.random.set_seed(42)\n",
    "input_shape = (train_M_X.shape[1], train_M_X.shape[2])\n",
    "model_1 = Sequential()\n",
    "model_1.add(layers.Input(shape=input_shape))\n",
    "model_1.add(layers.Masking(mask_value=mask_value))\n",
    "model_1.add(layers.GRU(64, return_sequences=True))\n",
    "model_1.add(layers.GRU(32, return_sequences=True))\n",
    "model_1.add(layers.GRU(16))\n",
    "model_1.add(layers.Dense(5, activation='softmax'))\n",
    "\n",
    "# # Train the RNN\n",
    "model_1.compile(optimizer=keras.optimizers.Adam(learning_rate=0.001), \n",
    "                loss=keras.losses.SparseCategoricalCrossentropy(), metrics=['accuracy'])\n",
    "model_1.summary()"
   ]
  },
  {
   "cell_type": "code",
   "execution_count": 17,
   "metadata": {},
   "outputs": [
    {
     "name": "stderr",
     "output_type": "stream",
     "text": [
      "2023-05-19 00:25:18.244924: W tensorflow/core/platform/profile_utils/cpu_utils.cc:128] Failed to get CPU frequency: 0 Hz\n"
     ]
    },
    {
     "name": "stdout",
     "output_type": "stream",
     "text": [
      "Epoch 1/3000\n",
      "41/41 [==============================] - 6s 32ms/step - loss: 1.4741 - accuracy: 0.3910 - val_loss: 1.3288 - val_accuracy: 0.4211\n",
      "Epoch 2/3000\n",
      "41/41 [==============================] - 1s 30ms/step - loss: 1.1243 - accuracy: 0.5514 - val_loss: 0.9977 - val_accuracy: 0.6032\n",
      "Epoch 3/3000\n",
      "41/41 [==============================] - 1s 32ms/step - loss: 0.8987 - accuracy: 0.6316 - val_loss: 0.9254 - val_accuracy: 0.6154\n",
      "Epoch 4/3000\n",
      "41/41 [==============================] - 1s 34ms/step - loss: 0.7982 - accuracy: 0.6963 - val_loss: 0.9328 - val_accuracy: 0.6113\n",
      "Epoch 5/3000\n",
      "41/41 [==============================] - 1s 33ms/step - loss: 0.7214 - accuracy: 0.7282 - val_loss: 0.8051 - val_accuracy: 0.6923\n",
      "Epoch 6/3000\n",
      "41/41 [==============================] - 1s 33ms/step - loss: 0.6519 - accuracy: 0.7562 - val_loss: 0.7618 - val_accuracy: 0.7085\n",
      "Epoch 7/3000\n",
      "41/41 [==============================] - 1s 34ms/step - loss: 0.6215 - accuracy: 0.7710 - val_loss: 0.7989 - val_accuracy: 0.6964\n",
      "Epoch 8/3000\n",
      "41/41 [==============================] - 1s 34ms/step - loss: 0.5860 - accuracy: 0.7804 - val_loss: 0.7129 - val_accuracy: 0.7206\n",
      "Epoch 9/3000\n",
      "41/41 [==============================] - 1s 34ms/step - loss: 0.5719 - accuracy: 0.7921 - val_loss: 0.6971 - val_accuracy: 0.7368\n",
      "Epoch 10/3000\n",
      "41/41 [==============================] - 1s 32ms/step - loss: 0.5288 - accuracy: 0.8053 - val_loss: 0.7082 - val_accuracy: 0.7328\n",
      "Epoch 11/3000\n",
      "41/41 [==============================] - 1s 33ms/step - loss: 0.4986 - accuracy: 0.8217 - val_loss: 0.7563 - val_accuracy: 0.7530\n",
      "Epoch 12/3000\n",
      "41/41 [==============================] - 1s 32ms/step - loss: 0.4814 - accuracy: 0.8255 - val_loss: 0.7487 - val_accuracy: 0.7126\n",
      "Epoch 13/3000\n",
      "41/41 [==============================] - 1s 32ms/step - loss: 0.4958 - accuracy: 0.8201 - val_loss: 0.7236 - val_accuracy: 0.7368\n",
      "Epoch 14/3000\n",
      "41/41 [==============================] - 1s 32ms/step - loss: 0.4506 - accuracy: 0.8403 - val_loss: 0.6328 - val_accuracy: 0.7733\n",
      "Epoch 15/3000\n",
      "41/41 [==============================] - 1s 32ms/step - loss: 0.4335 - accuracy: 0.8419 - val_loss: 0.6887 - val_accuracy: 0.7611\n",
      "Epoch 16/3000\n",
      "41/41 [==============================] - 1s 32ms/step - loss: 0.4073 - accuracy: 0.8567 - val_loss: 0.6916 - val_accuracy: 0.7449\n",
      "Epoch 17/3000\n",
      "41/41 [==============================] - 1s 32ms/step - loss: 0.4307 - accuracy: 0.8505 - val_loss: 0.6692 - val_accuracy: 0.7490\n",
      "Epoch 18/3000\n",
      "41/41 [==============================] - 1s 32ms/step - loss: 0.3830 - accuracy: 0.8684 - val_loss: 0.7697 - val_accuracy: 0.7166\n",
      "Epoch 19/3000\n",
      "41/41 [==============================] - 1s 33ms/step - loss: 0.3952 - accuracy: 0.8567 - val_loss: 0.6576 - val_accuracy: 0.7773\n",
      "Epoch 20/3000\n",
      "41/41 [==============================] - 1s 32ms/step - loss: 0.3535 - accuracy: 0.8754 - val_loss: 0.6587 - val_accuracy: 0.7530\n",
      "Epoch 21/3000\n",
      "41/41 [==============================] - 1s 33ms/step - loss: 0.3526 - accuracy: 0.8754 - val_loss: 0.7023 - val_accuracy: 0.7247\n",
      "Epoch 22/3000\n",
      "41/41 [==============================] - 1s 32ms/step - loss: 0.3215 - accuracy: 0.8879 - val_loss: 0.6650 - val_accuracy: 0.7773\n",
      "Epoch 23/3000\n",
      "41/41 [==============================] - 1s 32ms/step - loss: 0.3351 - accuracy: 0.8855 - val_loss: 0.6394 - val_accuracy: 0.7854\n",
      "Epoch 24/3000\n",
      "41/41 [==============================] - 1s 32ms/step - loss: 0.2870 - accuracy: 0.9065 - val_loss: 0.6573 - val_accuracy: 0.7854\n",
      "Epoch 25/3000\n",
      "41/41 [==============================] - 1s 32ms/step - loss: 0.2934 - accuracy: 0.8941 - val_loss: 0.6602 - val_accuracy: 0.7652\n",
      "Epoch 26/3000\n",
      "41/41 [==============================] - 1s 32ms/step - loss: 0.2753 - accuracy: 0.9019 - val_loss: 0.6949 - val_accuracy: 0.7854\n",
      "Epoch 27/3000\n",
      "41/41 [==============================] - 1s 32ms/step - loss: 0.2736 - accuracy: 0.9128 - val_loss: 0.6586 - val_accuracy: 0.7814\n",
      "Epoch 28/3000\n",
      "41/41 [==============================] - 1s 32ms/step - loss: 0.2542 - accuracy: 0.9143 - val_loss: 0.6650 - val_accuracy: 0.7814\n",
      "Epoch 29/3000\n",
      "41/41 [==============================] - 1s 32ms/step - loss: 0.2698 - accuracy: 0.9097 - val_loss: 0.6547 - val_accuracy: 0.7733\n",
      "Epoch 30/3000\n",
      "41/41 [==============================] - 1s 32ms/step - loss: 0.2156 - accuracy: 0.9307 - val_loss: 0.6902 - val_accuracy: 0.7773\n",
      "Epoch 31/3000\n",
      "41/41 [==============================] - 1s 32ms/step - loss: 0.2392 - accuracy: 0.9174 - val_loss: 0.6792 - val_accuracy: 0.7814\n",
      "Epoch 32/3000\n",
      "41/41 [==============================] - 1s 33ms/step - loss: 0.2127 - accuracy: 0.9354 - val_loss: 0.6851 - val_accuracy: 0.7895\n",
      "Epoch 33/3000\n",
      "41/41 [==============================] - 1s 32ms/step - loss: 0.2191 - accuracy: 0.9252 - val_loss: 0.7740 - val_accuracy: 0.7409\n",
      "Epoch 34/3000\n",
      "41/41 [==============================] - 1s 32ms/step - loss: 0.2043 - accuracy: 0.9377 - val_loss: 0.8434 - val_accuracy: 0.7449\n",
      "Epoch 35/3000\n",
      "41/41 [==============================] - 1s 32ms/step - loss: 0.1811 - accuracy: 0.9439 - val_loss: 0.7409 - val_accuracy: 0.7692\n",
      "Epoch 36/3000\n",
      "41/41 [==============================] - 1s 32ms/step - loss: 0.1581 - accuracy: 0.9556 - val_loss: 0.7842 - val_accuracy: 0.7692\n",
      "Epoch 37/3000\n",
      "41/41 [==============================] - 1s 32ms/step - loss: 0.1459 - accuracy: 0.9572 - val_loss: 0.7688 - val_accuracy: 0.7652\n",
      "Epoch 38/3000\n",
      "41/41 [==============================] - 1s 32ms/step - loss: 0.1578 - accuracy: 0.9572 - val_loss: 0.8795 - val_accuracy: 0.7368\n",
      "Epoch 39/3000\n",
      "41/41 [==============================] - 1s 32ms/step - loss: 0.1414 - accuracy: 0.9611 - val_loss: 0.7700 - val_accuracy: 0.7733\n",
      "Epoch 40/3000\n",
      "41/41 [==============================] - 1s 33ms/step - loss: 0.1208 - accuracy: 0.9665 - val_loss: 0.7703 - val_accuracy: 0.7773\n",
      "Epoch 41/3000\n",
      "41/41 [==============================] - 1s 32ms/step - loss: 0.1476 - accuracy: 0.9525 - val_loss: 0.8056 - val_accuracy: 0.7854\n",
      "Epoch 42/3000\n",
      "41/41 [==============================] - 1s 32ms/step - loss: 0.1077 - accuracy: 0.9727 - val_loss: 0.8131 - val_accuracy: 0.7854\n",
      "Epoch 43/3000\n",
      "41/41 [==============================] - 1s 32ms/step - loss: 0.0931 - accuracy: 0.9790 - val_loss: 0.8437 - val_accuracy: 0.7854\n",
      "Epoch 44/3000\n",
      "41/41 [==============================] - 1s 32ms/step - loss: 0.1056 - accuracy: 0.9712 - val_loss: 0.8204 - val_accuracy: 0.7935\n",
      "Epoch 45/3000\n",
      "41/41 [==============================] - 1s 32ms/step - loss: 0.0973 - accuracy: 0.9759 - val_loss: 0.9433 - val_accuracy: 0.7571\n",
      "Epoch 46/3000\n",
      "41/41 [==============================] - 1s 32ms/step - loss: 0.1922 - accuracy: 0.9424 - val_loss: 0.9449 - val_accuracy: 0.7449\n",
      "Epoch 47/3000\n",
      "41/41 [==============================] - 1s 32ms/step - loss: 0.0986 - accuracy: 0.9751 - val_loss: 0.8166 - val_accuracy: 0.7652\n",
      "Epoch 48/3000\n",
      "41/41 [==============================] - 1s 32ms/step - loss: 0.0728 - accuracy: 0.9844 - val_loss: 0.9726 - val_accuracy: 0.7692\n",
      "Epoch 49/3000\n",
      "41/41 [==============================] - 1s 32ms/step - loss: 0.1540 - accuracy: 0.9525 - val_loss: 1.3554 - val_accuracy: 0.6761\n",
      "Epoch 50/3000\n",
      "41/41 [==============================] - 1s 32ms/step - loss: 0.0981 - accuracy: 0.9759 - val_loss: 0.8907 - val_accuracy: 0.7692\n",
      "Epoch 51/3000\n",
      "41/41 [==============================] - 1s 32ms/step - loss: 0.1125 - accuracy: 0.9657 - val_loss: 0.9556 - val_accuracy: 0.7773\n",
      "Epoch 52/3000\n",
      "41/41 [==============================] - 1s 32ms/step - loss: 0.0687 - accuracy: 0.9821 - val_loss: 0.8997 - val_accuracy: 0.7854\n",
      "Epoch 53/3000\n",
      "41/41 [==============================] - 1s 32ms/step - loss: 0.0528 - accuracy: 0.9891 - val_loss: 0.9271 - val_accuracy: 0.7854\n",
      "Epoch 54/3000\n",
      "41/41 [==============================] - 1s 32ms/step - loss: 0.1006 - accuracy: 0.9673 - val_loss: 0.9765 - val_accuracy: 0.7611\n",
      "Epoch 55/3000\n",
      "41/41 [==============================] - 1s 32ms/step - loss: 0.0691 - accuracy: 0.9813 - val_loss: 1.0732 - val_accuracy: 0.7449\n",
      "Epoch 56/3000\n",
      "41/41 [==============================] - 1s 32ms/step - loss: 0.3737 - accuracy: 0.8995 - val_loss: 0.9386 - val_accuracy: 0.7449\n",
      "Epoch 57/3000\n",
      "41/41 [==============================] - 1s 32ms/step - loss: 0.0995 - accuracy: 0.9727 - val_loss: 0.9794 - val_accuracy: 0.7328\n",
      "Epoch 58/3000\n",
      "41/41 [==============================] - 1s 32ms/step - loss: 0.0578 - accuracy: 0.9891 - val_loss: 0.9457 - val_accuracy: 0.7652\n",
      "Epoch 59/3000\n",
      "41/41 [==============================] - 1s 33ms/step - loss: 0.0429 - accuracy: 0.9922 - val_loss: 0.9780 - val_accuracy: 0.7449\n",
      "Epoch 60/3000\n",
      "19/41 [============>.................] - ETA: 0s - loss: 0.0379 - accuracy: 0.9934"
     ]
    },
    {
     "ename": "KeyboardInterrupt",
     "evalue": "",
     "output_type": "error",
     "traceback": [
      "\u001b[0;31m---------------------------------------------------------------------------\u001b[0m",
      "\u001b[0;31mKeyboardInterrupt\u001b[0m                         Traceback (most recent call last)",
      "Cell \u001b[0;32mIn[17], line 5\u001b[0m\n\u001b[1;32m      2\u001b[0m initial_train_loss, initial_train_acc \u001b[39m=\u001b[39m model_1\u001b[39m.\u001b[39mevaluate(train_M_X, train_M_Y, verbose\u001b[39m=\u001b[39m\u001b[39m0\u001b[39m)\n\u001b[1;32m      3\u001b[0m initial_valid_loss, initial_valid_acc \u001b[39m=\u001b[39m model_1\u001b[39m.\u001b[39mevaluate(test_M_X, test_M_Y, verbose\u001b[39m=\u001b[39m\u001b[39m0\u001b[39m)\n\u001b[0;32m----> 5\u001b[0m history_1 \u001b[39m=\u001b[39m model_1\u001b[39m.\u001b[39;49mfit(train_M_X, train_M_Y, \n\u001b[1;32m      6\u001b[0m                 validation_data\u001b[39m=\u001b[39;49m(test_M_X, test_M_Y),\n\u001b[1;32m      7\u001b[0m                 callbacks\u001b[39m=\u001b[39;49m[HistorySaver((initial_train_loss, initial_train_acc, initial_valid_loss, initial_valid_acc)), \n\u001b[1;32m      8\u001b[0m                                 checkpoint_callback,\n\u001b[1;32m      9\u001b[0m                                 early_stopping_cb],\n\u001b[1;32m     10\u001b[0m                 batch_size\u001b[39m=\u001b[39;49mbatch_size_val, epochs\u001b[39m=\u001b[39;49mepoch_val, verbose\u001b[39m=\u001b[39;49m\u001b[39m1\u001b[39;49m)\n",
      "File \u001b[0;32m/opt/anaconda3/envs/tf/lib/python3.10/site-packages/keras/utils/traceback_utils.py:65\u001b[0m, in \u001b[0;36mfilter_traceback.<locals>.error_handler\u001b[0;34m(*args, **kwargs)\u001b[0m\n\u001b[1;32m     63\u001b[0m filtered_tb \u001b[39m=\u001b[39m \u001b[39mNone\u001b[39;00m\n\u001b[1;32m     64\u001b[0m \u001b[39mtry\u001b[39;00m:\n\u001b[0;32m---> 65\u001b[0m     \u001b[39mreturn\u001b[39;00m fn(\u001b[39m*\u001b[39;49margs, \u001b[39m*\u001b[39;49m\u001b[39m*\u001b[39;49mkwargs)\n\u001b[1;32m     66\u001b[0m \u001b[39mexcept\u001b[39;00m \u001b[39mException\u001b[39;00m \u001b[39mas\u001b[39;00m e:\n\u001b[1;32m     67\u001b[0m     filtered_tb \u001b[39m=\u001b[39m _process_traceback_frames(e\u001b[39m.\u001b[39m__traceback__)\n",
      "File \u001b[0;32m/opt/anaconda3/envs/tf/lib/python3.10/site-packages/keras/engine/training.py:1564\u001b[0m, in \u001b[0;36mModel.fit\u001b[0;34m(self, x, y, batch_size, epochs, verbose, callbacks, validation_split, validation_data, shuffle, class_weight, sample_weight, initial_epoch, steps_per_epoch, validation_steps, validation_batch_size, validation_freq, max_queue_size, workers, use_multiprocessing)\u001b[0m\n\u001b[1;32m   1556\u001b[0m \u001b[39mwith\u001b[39;00m tf\u001b[39m.\u001b[39mprofiler\u001b[39m.\u001b[39mexperimental\u001b[39m.\u001b[39mTrace(\n\u001b[1;32m   1557\u001b[0m     \u001b[39m\"\u001b[39m\u001b[39mtrain\u001b[39m\u001b[39m\"\u001b[39m,\n\u001b[1;32m   1558\u001b[0m     epoch_num\u001b[39m=\u001b[39mepoch,\n\u001b[0;32m   (...)\u001b[0m\n\u001b[1;32m   1561\u001b[0m     _r\u001b[39m=\u001b[39m\u001b[39m1\u001b[39m,\n\u001b[1;32m   1562\u001b[0m ):\n\u001b[1;32m   1563\u001b[0m     callbacks\u001b[39m.\u001b[39mon_train_batch_begin(step)\n\u001b[0;32m-> 1564\u001b[0m     tmp_logs \u001b[39m=\u001b[39m \u001b[39mself\u001b[39;49m\u001b[39m.\u001b[39;49mtrain_function(iterator)\n\u001b[1;32m   1565\u001b[0m     \u001b[39mif\u001b[39;00m data_handler\u001b[39m.\u001b[39mshould_sync:\n\u001b[1;32m   1566\u001b[0m         context\u001b[39m.\u001b[39masync_wait()\n",
      "File \u001b[0;32m/opt/anaconda3/envs/tf/lib/python3.10/site-packages/tensorflow/python/util/traceback_utils.py:150\u001b[0m, in \u001b[0;36mfilter_traceback.<locals>.error_handler\u001b[0;34m(*args, **kwargs)\u001b[0m\n\u001b[1;32m    148\u001b[0m filtered_tb \u001b[39m=\u001b[39m \u001b[39mNone\u001b[39;00m\n\u001b[1;32m    149\u001b[0m \u001b[39mtry\u001b[39;00m:\n\u001b[0;32m--> 150\u001b[0m   \u001b[39mreturn\u001b[39;00m fn(\u001b[39m*\u001b[39;49margs, \u001b[39m*\u001b[39;49m\u001b[39m*\u001b[39;49mkwargs)\n\u001b[1;32m    151\u001b[0m \u001b[39mexcept\u001b[39;00m \u001b[39mException\u001b[39;00m \u001b[39mas\u001b[39;00m e:\n\u001b[1;32m    152\u001b[0m   filtered_tb \u001b[39m=\u001b[39m _process_traceback_frames(e\u001b[39m.\u001b[39m__traceback__)\n",
      "File \u001b[0;32m/opt/anaconda3/envs/tf/lib/python3.10/site-packages/tensorflow/python/eager/def_function.py:915\u001b[0m, in \u001b[0;36mFunction.__call__\u001b[0;34m(self, *args, **kwds)\u001b[0m\n\u001b[1;32m    912\u001b[0m compiler \u001b[39m=\u001b[39m \u001b[39m\"\u001b[39m\u001b[39mxla\u001b[39m\u001b[39m\"\u001b[39m \u001b[39mif\u001b[39;00m \u001b[39mself\u001b[39m\u001b[39m.\u001b[39m_jit_compile \u001b[39melse\u001b[39;00m \u001b[39m\"\u001b[39m\u001b[39mnonXla\u001b[39m\u001b[39m\"\u001b[39m\n\u001b[1;32m    914\u001b[0m \u001b[39mwith\u001b[39;00m OptionalXlaContext(\u001b[39mself\u001b[39m\u001b[39m.\u001b[39m_jit_compile):\n\u001b[0;32m--> 915\u001b[0m   result \u001b[39m=\u001b[39m \u001b[39mself\u001b[39;49m\u001b[39m.\u001b[39;49m_call(\u001b[39m*\u001b[39;49margs, \u001b[39m*\u001b[39;49m\u001b[39m*\u001b[39;49mkwds)\n\u001b[1;32m    917\u001b[0m new_tracing_count \u001b[39m=\u001b[39m \u001b[39mself\u001b[39m\u001b[39m.\u001b[39mexperimental_get_tracing_count()\n\u001b[1;32m    918\u001b[0m without_tracing \u001b[39m=\u001b[39m (tracing_count \u001b[39m==\u001b[39m new_tracing_count)\n",
      "File \u001b[0;32m/opt/anaconda3/envs/tf/lib/python3.10/site-packages/tensorflow/python/eager/def_function.py:947\u001b[0m, in \u001b[0;36mFunction._call\u001b[0;34m(self, *args, **kwds)\u001b[0m\n\u001b[1;32m    944\u001b[0m   \u001b[39mself\u001b[39m\u001b[39m.\u001b[39m_lock\u001b[39m.\u001b[39mrelease()\n\u001b[1;32m    945\u001b[0m   \u001b[39m# In this case we have created variables on the first call, so we run the\u001b[39;00m\n\u001b[1;32m    946\u001b[0m   \u001b[39m# defunned version which is guaranteed to never create variables.\u001b[39;00m\n\u001b[0;32m--> 947\u001b[0m   \u001b[39mreturn\u001b[39;00m \u001b[39mself\u001b[39;49m\u001b[39m.\u001b[39;49m_stateless_fn(\u001b[39m*\u001b[39;49margs, \u001b[39m*\u001b[39;49m\u001b[39m*\u001b[39;49mkwds)  \u001b[39m# pylint: disable=not-callable\u001b[39;00m\n\u001b[1;32m    948\u001b[0m \u001b[39melif\u001b[39;00m \u001b[39mself\u001b[39m\u001b[39m.\u001b[39m_stateful_fn \u001b[39mis\u001b[39;00m \u001b[39mnot\u001b[39;00m \u001b[39mNone\u001b[39;00m:\n\u001b[1;32m    949\u001b[0m   \u001b[39m# Release the lock early so that multiple threads can perform the call\u001b[39;00m\n\u001b[1;32m    950\u001b[0m   \u001b[39m# in parallel.\u001b[39;00m\n\u001b[1;32m    951\u001b[0m   \u001b[39mself\u001b[39m\u001b[39m.\u001b[39m_lock\u001b[39m.\u001b[39mrelease()\n",
      "File \u001b[0;32m/opt/anaconda3/envs/tf/lib/python3.10/site-packages/tensorflow/python/eager/function.py:2496\u001b[0m, in \u001b[0;36mFunction.__call__\u001b[0;34m(self, *args, **kwargs)\u001b[0m\n\u001b[1;32m   2493\u001b[0m \u001b[39mwith\u001b[39;00m \u001b[39mself\u001b[39m\u001b[39m.\u001b[39m_lock:\n\u001b[1;32m   2494\u001b[0m   (graph_function,\n\u001b[1;32m   2495\u001b[0m    filtered_flat_args) \u001b[39m=\u001b[39m \u001b[39mself\u001b[39m\u001b[39m.\u001b[39m_maybe_define_function(args, kwargs)\n\u001b[0;32m-> 2496\u001b[0m \u001b[39mreturn\u001b[39;00m graph_function\u001b[39m.\u001b[39;49m_call_flat(\n\u001b[1;32m   2497\u001b[0m     filtered_flat_args, captured_inputs\u001b[39m=\u001b[39;49mgraph_function\u001b[39m.\u001b[39;49mcaptured_inputs)\n",
      "File \u001b[0;32m/opt/anaconda3/envs/tf/lib/python3.10/site-packages/tensorflow/python/eager/function.py:1862\u001b[0m, in \u001b[0;36mConcreteFunction._call_flat\u001b[0;34m(self, args, captured_inputs, cancellation_manager)\u001b[0m\n\u001b[1;32m   1858\u001b[0m possible_gradient_type \u001b[39m=\u001b[39m gradients_util\u001b[39m.\u001b[39mPossibleTapeGradientTypes(args)\n\u001b[1;32m   1859\u001b[0m \u001b[39mif\u001b[39;00m (possible_gradient_type \u001b[39m==\u001b[39m gradients_util\u001b[39m.\u001b[39mPOSSIBLE_GRADIENT_TYPES_NONE\n\u001b[1;32m   1860\u001b[0m     \u001b[39mand\u001b[39;00m executing_eagerly):\n\u001b[1;32m   1861\u001b[0m   \u001b[39m# No tape is watching; skip to running the function.\u001b[39;00m\n\u001b[0;32m-> 1862\u001b[0m   \u001b[39mreturn\u001b[39;00m \u001b[39mself\u001b[39m\u001b[39m.\u001b[39m_build_call_outputs(\u001b[39mself\u001b[39;49m\u001b[39m.\u001b[39;49m_inference_function\u001b[39m.\u001b[39;49mcall(\n\u001b[1;32m   1863\u001b[0m       ctx, args, cancellation_manager\u001b[39m=\u001b[39;49mcancellation_manager))\n\u001b[1;32m   1864\u001b[0m forward_backward \u001b[39m=\u001b[39m \u001b[39mself\u001b[39m\u001b[39m.\u001b[39m_select_forward_and_backward_functions(\n\u001b[1;32m   1865\u001b[0m     args,\n\u001b[1;32m   1866\u001b[0m     possible_gradient_type,\n\u001b[1;32m   1867\u001b[0m     executing_eagerly)\n\u001b[1;32m   1868\u001b[0m forward_function, args_with_tangents \u001b[39m=\u001b[39m forward_backward\u001b[39m.\u001b[39mforward()\n",
      "File \u001b[0;32m/opt/anaconda3/envs/tf/lib/python3.10/site-packages/tensorflow/python/eager/function.py:499\u001b[0m, in \u001b[0;36m_EagerDefinedFunction.call\u001b[0;34m(self, ctx, args, cancellation_manager)\u001b[0m\n\u001b[1;32m    497\u001b[0m \u001b[39mwith\u001b[39;00m _InterpolateFunctionError(\u001b[39mself\u001b[39m):\n\u001b[1;32m    498\u001b[0m   \u001b[39mif\u001b[39;00m cancellation_manager \u001b[39mis\u001b[39;00m \u001b[39mNone\u001b[39;00m:\n\u001b[0;32m--> 499\u001b[0m     outputs \u001b[39m=\u001b[39m execute\u001b[39m.\u001b[39;49mexecute(\n\u001b[1;32m    500\u001b[0m         \u001b[39mstr\u001b[39;49m(\u001b[39mself\u001b[39;49m\u001b[39m.\u001b[39;49msignature\u001b[39m.\u001b[39;49mname),\n\u001b[1;32m    501\u001b[0m         num_outputs\u001b[39m=\u001b[39;49m\u001b[39mself\u001b[39;49m\u001b[39m.\u001b[39;49m_num_outputs,\n\u001b[1;32m    502\u001b[0m         inputs\u001b[39m=\u001b[39;49margs,\n\u001b[1;32m    503\u001b[0m         attrs\u001b[39m=\u001b[39;49mattrs,\n\u001b[1;32m    504\u001b[0m         ctx\u001b[39m=\u001b[39;49mctx)\n\u001b[1;32m    505\u001b[0m   \u001b[39melse\u001b[39;00m:\n\u001b[1;32m    506\u001b[0m     outputs \u001b[39m=\u001b[39m execute\u001b[39m.\u001b[39mexecute_with_cancellation(\n\u001b[1;32m    507\u001b[0m         \u001b[39mstr\u001b[39m(\u001b[39mself\u001b[39m\u001b[39m.\u001b[39msignature\u001b[39m.\u001b[39mname),\n\u001b[1;32m    508\u001b[0m         num_outputs\u001b[39m=\u001b[39m\u001b[39mself\u001b[39m\u001b[39m.\u001b[39m_num_outputs,\n\u001b[0;32m   (...)\u001b[0m\n\u001b[1;32m    511\u001b[0m         ctx\u001b[39m=\u001b[39mctx,\n\u001b[1;32m    512\u001b[0m         cancellation_manager\u001b[39m=\u001b[39mcancellation_manager)\n",
      "File \u001b[0;32m/opt/anaconda3/envs/tf/lib/python3.10/site-packages/tensorflow/python/eager/execute.py:54\u001b[0m, in \u001b[0;36mquick_execute\u001b[0;34m(op_name, num_outputs, inputs, attrs, ctx, name)\u001b[0m\n\u001b[1;32m     52\u001b[0m \u001b[39mtry\u001b[39;00m:\n\u001b[1;32m     53\u001b[0m   ctx\u001b[39m.\u001b[39mensure_initialized()\n\u001b[0;32m---> 54\u001b[0m   tensors \u001b[39m=\u001b[39m pywrap_tfe\u001b[39m.\u001b[39;49mTFE_Py_Execute(ctx\u001b[39m.\u001b[39;49m_handle, device_name, op_name,\n\u001b[1;32m     55\u001b[0m                                       inputs, attrs, num_outputs)\n\u001b[1;32m     56\u001b[0m \u001b[39mexcept\u001b[39;00m core\u001b[39m.\u001b[39m_NotOkStatusException \u001b[39mas\u001b[39;00m e:\n\u001b[1;32m     57\u001b[0m   \u001b[39mif\u001b[39;00m name \u001b[39mis\u001b[39;00m \u001b[39mnot\u001b[39;00m \u001b[39mNone\u001b[39;00m:\n",
      "\u001b[0;31mKeyboardInterrupt\u001b[0m: "
     ]
    }
   ],
   "source": [
    "# Evaluate the model_1 initial losses\n",
    "initial_train_loss, initial_train_acc = model_1.evaluate(train_M_X, train_M_Y, verbose=0)\n",
    "initial_valid_loss, initial_valid_acc = model_1.evaluate(test_M_X, test_M_Y, verbose=0)\n",
    "\n",
    "history_1 = model_1.fit(train_M_X, train_M_Y, \n",
    "                validation_data=(test_M_X, test_M_Y),\n",
    "                callbacks=[HistorySaver((initial_train_loss, initial_train_acc, initial_valid_loss, initial_valid_acc)), \n",
    "                                checkpoint_callback,\n",
    "                                early_stopping_cb],\n",
    "                batch_size=batch_size_val, epochs=epoch_val, verbose=1)"
   ]
  },
  {
   "cell_type": "code",
   "execution_count": null,
   "metadata": {},
   "outputs": [],
   "source": [
    "model_1.load_weights(checkpoint_path)\n",
    "# df_history_1 = pd.read_csv(f'{pathfinal}sequential_3_19.csv')\n",
    "df_history_1 = pd.DataFrame(history_1.history)\n",
    "showResults(model_1, df_history_1, test_M_X, test_M_Y, class_names)\n",
    "plot_model(model_1,to_file=f'{path}model_images/model.png', show_shapes=True, show_layer_activations=True, expand_nested=True, dpi=999)"
   ]
  },
  {
   "cell_type": "code",
   "execution_count": null,
   "metadata": {},
   "outputs": [],
   "source": [
    "delete_folder_contents(pathfinal2)\n",
    "get_ipython().system('osascript -e \\'tell application \"System Events\" to keystroke \"s\" using command down\\'')\n",
    "get_ipython().system(f'jupyter nbconvert {name} --to python')"
   ]
  }
 ],
 "metadata": {
  "kernelspec": {
   "display_name": "tf",
   "language": "python",
   "name": "python3"
  },
  "language_info": {
   "codemirror_mode": {
    "name": "ipython",
    "version": 3
   },
   "file_extension": ".py",
   "mimetype": "text/x-python",
   "name": "python",
   "nbconvert_exporter": "python",
   "pygments_lexer": "ipython3",
   "version": "3.10.11"
  },
  "orig_nbformat": 4
 },
 "nbformat": 4,
 "nbformat_minor": 2
}
