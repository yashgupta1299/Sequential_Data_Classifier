{
 "cells": [
  {
   "cell_type": "code",
   "execution_count": 1,
   "metadata": {},
   "outputs": [
    {
     "name": "stdout",
     "output_type": "stream",
     "text": [
      "2.10.0\n"
     ]
    }
   ],
   "source": [
    "import tensorflow as tf\n",
    "# current processing\n",
    "# tf.config.set_visible_devices(tf.config.list_physical_devices('CPU'))\n",
    "\n",
    "from importlib import import_module\n",
    "import keras\n",
    "from keras.api._v2 import keras as KerasAPI\n",
    "keras: KerasAPI = import_module(\"tensorflow.keras\")\n",
    "print(tf.__version__)\n",
    "\n",
    "from keras import Model, layers\n",
    "from keras.models import Sequential\n",
    "from keras.layers import preprocessing\n",
    "from keras.utils import plot_model\n",
    "\n",
    "\n",
    "import numpy as np\n",
    "import pandas as pd\n",
    "import matplotlib.pyplot as plt\n",
    "import matplotlib.image as mpimg\n",
    "import matplotlib\n",
    "\n",
    "import os\n",
    "import time\n",
    "import itertools\n",
    "import shutil\n",
    "import cv2\n",
    "import zipfile\n",
    "\n",
    "from sklearn.metrics import confusion_matrix\n"
   ]
  },
  {
   "cell_type": "code",
   "execution_count": null,
   "metadata": {},
   "outputs": [],
   "source": []
  }
 ],
 "metadata": {
  "kernelspec": {
   "display_name": "tf",
   "language": "python",
   "name": "python3"
  },
  "language_info": {
   "codemirror_mode": {
    "name": "ipython",
    "version": 3
   },
   "file_extension": ".py",
   "mimetype": "text/x-python",
   "name": "python",
   "nbconvert_exporter": "python",
   "pygments_lexer": "ipython3",
   "version": "3.10.11"
  },
  "orig_nbformat": 4
 },
 "nbformat": 4,
 "nbformat_minor": 2
}
